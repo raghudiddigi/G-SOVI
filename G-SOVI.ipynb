{
 "cells": [
  {
   "cell_type": "code",
   "execution_count": 1,
   "metadata": {},
   "outputs": [
    {
     "name": "stdout",
     "output_type": "stream",
     "text": [
      "0.09492655802163608\n",
      "0.1630130525730349\n",
      "0.1582999515423349\n"
     ]
    }
   ],
   "source": [
    "import numpy as np\n",
    "import mdptoolbox, mdptoolbox.example\n",
    "import random\n",
    "from numpy.random import seed\n",
    "import time\n",
    "\n",
    "\n",
    "\n",
    "#np.random.seed(0)\n",
    "#P, R = mdptoolbox.example.forest()\n",
    "s = 100\n",
    "a= 10\n",
    "discount = 0.9\n",
    "episodes = 1 #100\n",
    "iterations = 50\n",
    "w_val = 1.3\n",
    "\n",
    "vi_diff = np.zeros((episodes,iterations,1))\n",
    "newton_diff= np.zeros((episodes,iterations,1))\n",
    "gen_newton_diff = np.zeros((episodes,iterations,1))\n",
    "\n",
    "# vi_pol_diff = np.zeros((episodes,iterations,1))\n",
    "# newton_pol_diff = np.zeros((episodes,iterations,1))\n",
    "\n",
    "vi_time = np.zeros((episodes,1))\n",
    "newton_time = np.zeros((episodes,1))\n",
    "\n",
    "for count in range(episodes):\n",
    "    \n",
    "    np.random.seed((count+1)*100)\n",
    "    random.seed((count+1)*110)\n",
    "   \n",
    "    P, R = mdptoolbox.example.rand(s, a)\n",
    "        #print(P)\n",
    "        #print(np.min(P))\n",
    "\n",
    "    vi = mdptoolbox.mdp.ValueIteration(P, R, discount,epsilon=0.0000001,max_iter = iterations)\n",
    "    vi.run()\n",
    "    #print(vi.V,vi.iter,vi.max_iter)\n",
    "\n",
    "    # vi2 = mdptoolbox.mdp.QValueIteration(P,R,discount,max_iter = 1)\n",
    "    # vi2.run()\n",
    "\n",
    "    # print(np.max(vi2.Q,axis = 0),vi2.max_iter)\n",
    "    # print(np.max(vi2.modQ,axis = 0))\n",
    "    start = time.time()\n",
    "    vi3 = mdptoolbox.mdp.QValueIteration(P,R,discount,max_iter = iterations,opt = vi.V, opt_pol = vi.policy)\n",
    "    end = time.time()\n",
    "    \n",
    "    vi3.run()\n",
    "    \n",
    "    vi_time[count] = end-start\n",
    "\n",
    "    #soft_error = \n",
    "    start = time.time()\n",
    "    vi4 = mdptoolbox.mdp.NewtonQValueIteration(P,R,discount,max_iter = iterations,opt = vi.V, opt_pol = vi.policy)\n",
    "    end = time.time()\n",
    "    \n",
    "    vi4.run()\n",
    "    #print(end-start)\n",
    "    newton_time[count] = end-start\n",
    "    \n",
    "    vi5 = mdptoolbox.mdp.GenNewtonQValueIteration(P,R,discount,max_iter = iterations,opt = vi.V, opt_pol = vi.policy,w = w_val)\n",
    "    end = time.time()\n",
    "    \n",
    "    vi5.run()\n",
    "    \n",
    "    \n",
    "    vi_diff[count] = vi3.store_error\n",
    "    newton_diff[count] = vi4.store_error\n",
    "    gen_newton_diff[count] = vi5.store_error\n",
    "    \n",
    "#     vi_pol_diff[count] = vi3.policy_error\n",
    "#     newton_pol_diff[count] = vi4.policy_error\n",
    "\n",
    "\n",
    "# print(np.max(vi3.Q,axis = 0),vi3.max_iter)\n",
    "# print(np.max(vi3.modQ,axis = 0))\n",
    "# print(np.max(vi3.nmodQ,axis = 0))\n",
    "\n",
    "print(np.linalg.norm(vi.V - np.max(vi3.Q,axis = 0),ord=np.inf)) #Q-bellman\n",
    "#print(np.linalg.norm(vi.V - np.max(vi3.modQ,axis = 0), axis=0,ord=np.inf)) #Soft-max\n",
    "print(np.linalg.norm(vi.V - np.max(vi4.nmodQ,axis = 0),axis=0,ord=np.inf))\n",
    "print(np.linalg.norm(vi.V - np.max(vi5.nmodQ,axis = 0),axis=0,ord=np.inf))\n",
    "#print(vi3.store_error, vi4.store_error, vi3.policy,vi4.policy)\n",
    "#print(vi3.policy_error,vi4.policy_error)"
   ]
  },
  {
   "cell_type": "code",
   "execution_count": 8,
   "metadata": {},
   "outputs": [
    {
     "name": "stdout",
     "output_type": "stream",
     "text": [
      "0.053771905738715375\n"
     ]
    }
   ],
   "source": [
    "print(np.linalg.norm(vi.V - np.max(vi5.nmodQ,axis = 0),axis=0,ord=np.inf))"
   ]
  },
  {
   "cell_type": "code",
   "execution_count": 11,
   "metadata": {},
   "outputs": [],
   "source": [
    "np.savetxt('vi_diff.txt',np.average(vi_diff,axis = 0))\n",
    "np.savetxt('newton_diff.txt',np.average(newton_diff,axis = 0))\n",
    "np.savetxt('gen_newton_diff.txt',np.average(gen_newton_diff,axis = 0))"
   ]
  },
  {
   "cell_type": "code",
   "execution_count": 2,
   "metadata": {},
   "outputs": [],
   "source": [
    "np.savetxt('vi_diff_100.txt',np.average(vi_diff,axis = 0))\n",
    "np.savetxt('newton_diff_100.txt',np.average(newton_diff,axis = 0))\n",
    "np.savetxt('gen_newton_diff_100.txt',np.average(gen_newton_diff,axis = 0))"
   ]
  },
  {
   "cell_type": "code",
   "execution_count": 3,
   "metadata": {},
   "outputs": [
    {
     "name": "stdout",
     "output_type": "stream",
     "text": [
      "[0.10092856] [0.00263597]\n",
      "[1.40952727] [0.15808938]\n",
      "[1.29308175] [0.15199659]\n"
     ]
    }
   ],
   "source": [
    "print(np.average(vi_diff,axis = 0)[49],np.std(vi_diff,axis = 0)[49])\n",
    "print(np.average(newton_diff,axis = 0)[49],np.std(newton_diff,axis = 0)[49])\n",
    "print(np.average(gen_newton_diff,axis = 0)[49],np.std(gen_newton_diff,axis = 0)[49])"
   ]
  },
  {
   "cell_type": "code",
   "execution_count": null,
   "metadata": {},
   "outputs": [],
   "source": [
    "0.08758593792735425\n",
    "0.062277154874552654\n",
    "0.048986733761713364"
   ]
  },
  {
   "cell_type": "code",
   "execution_count": 4,
   "metadata": {},
   "outputs": [
    {
     "name": "stdout",
     "output_type": "stream",
     "text": [
      "[[16.64697003]\n",
      " [ 2.15288617]\n",
      " [ 0.401804  ]\n",
      " [ 0.42243174]\n",
      " [ 0.42243646]\n",
      " [ 0.42243646]\n",
      " [ 0.42243646]\n",
      " [ 0.42243646]\n",
      " [ 0.42243646]\n",
      " [ 0.42243646]\n",
      " [ 0.42243646]\n",
      " [ 0.42243646]\n",
      " [ 0.42243646]\n",
      " [ 0.42243646]\n",
      " [ 0.42243646]\n",
      " [ 0.42243646]\n",
      " [ 0.42243646]\n",
      " [ 0.42243646]\n",
      " [ 0.42243646]\n",
      " [ 0.42243646]\n",
      " [ 0.42243646]\n",
      " [ 0.42243646]\n",
      " [ 0.42243646]\n",
      " [ 0.42243646]\n",
      " [ 0.42243646]\n",
      " [ 0.42243646]\n",
      " [ 0.42243646]\n",
      " [ 0.42243646]\n",
      " [ 0.42243646]\n",
      " [ 0.42243646]\n",
      " [ 0.42243646]\n",
      " [ 0.42243646]\n",
      " [ 0.42243646]\n",
      " [ 0.42243646]\n",
      " [ 0.42243646]\n",
      " [ 0.42243646]\n",
      " [ 0.42243646]\n",
      " [ 0.42243646]\n",
      " [ 0.42243646]\n",
      " [ 0.42243646]\n",
      " [ 0.42243646]\n",
      " [ 0.42243646]\n",
      " [ 0.42243646]\n",
      " [ 0.42243646]\n",
      " [ 0.42243646]\n",
      " [ 0.42243646]\n",
      " [ 0.42243646]\n",
      " [ 0.42243646]\n",
      " [ 0.42243646]\n",
      " [ 0.42243646]]\n"
     ]
    }
   ],
   "source": [
    "print(np.average(newton_diff,axis = 0))"
   ]
  },
  {
   "cell_type": "code",
   "execution_count": 8,
   "metadata": {},
   "outputs": [
    {
     "name": "stdout",
     "output_type": "stream",
     "text": [
      "1.1439927965449372\n"
     ]
    }
   ],
   "source": [
    "print(vi5.w)"
   ]
  },
  {
   "cell_type": "code",
   "execution_count": null,
   "metadata": {},
   "outputs": [],
   "source": []
  }
 ],
 "metadata": {
  "kernelspec": {
   "display_name": "Python 3",
   "language": "python",
   "name": "python3"
  },
  "language_info": {
   "codemirror_mode": {
    "name": "ipython",
    "version": 3
   },
   "file_extension": ".py",
   "mimetype": "text/x-python",
   "name": "python",
   "nbconvert_exporter": "python",
   "pygments_lexer": "ipython3",
   "version": "3.6.5"
  }
 },
 "nbformat": 4,
 "nbformat_minor": 2
}
